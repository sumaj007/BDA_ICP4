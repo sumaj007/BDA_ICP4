{
  "nbformat": 4,
  "nbformat_minor": 0,
  "metadata": {
    "colab": {
      "provenance": []
    },
    "kernelspec": {
      "name": "python3",
      "display_name": "Python 3"
    },
    "language_info": {
      "name": "python"
    }
  },
  "cells": [
    {
      "cell_type": "code",
      "execution_count": 1,
      "metadata": {
        "colab": {
          "base_uri": "https://localhost:8080/"
        },
        "id": "qpM0brEhKOSC",
        "outputId": "fb7e8441-aa60-4842-8060-b5957e1fa153"
      },
      "outputs": [
        {
          "output_type": "stream",
          "name": "stdout",
          "text": [
            "   ID  Value Choice\n",
            "0   1     10      A\n",
            "1   2     20      B\n",
            "2   3     30      C\n",
            "3   4     40      D\n",
            "4   5     50      E\n"
          ]
        }
      ],
      "source": [
        "import pandas as pd\n",
        "\n",
        "data = {\n",
        "    \"ID\": [1, 2, 3, 4, 5],\n",
        "    \"Value\": [10, 20, 30, 40, 50],\n",
        "    \"Choice\": [\"A\", \"B\", \"C\", \"D\", \"E\"]\n",
        "}\n",
        "\n",
        "df = pd.DataFrame(data)\n",
        "print(df)\n"
      ]
    },
    {
      "cell_type": "code",
      "source": [
        "print(df.head(10))\n"
      ],
      "metadata": {
        "colab": {
          "base_uri": "https://localhost:8080/"
        },
        "id": "eowg3hn_LH-l",
        "outputId": "95f24141-b87b-46cb-caf7-5bcb277ae3af"
      },
      "execution_count": 2,
      "outputs": [
        {
          "output_type": "stream",
          "name": "stdout",
          "text": [
            "   ID  Value Choice\n",
            "0   1     10      A\n",
            "1   2     20      B\n",
            "2   3     30      C\n",
            "3   4     40      D\n",
            "4   5     50      E\n"
          ]
        }
      ]
    },
    {
      "cell_type": "code",
      "source": [
        "print(df[\"Value\"]) #to access specific column\n"
      ],
      "metadata": {
        "colab": {
          "base_uri": "https://localhost:8080/"
        },
        "id": "Lu6gVsleLLSz",
        "outputId": "0f76ea1d-4556-41b6-a66e-1e22c48b1d0f"
      },
      "execution_count": 3,
      "outputs": [
        {
          "output_type": "stream",
          "name": "stdout",
          "text": [
            "0    10\n",
            "1    20\n",
            "2    30\n",
            "3    40\n",
            "4    50\n",
            "Name: Value, dtype: int64\n"
          ]
        }
      ]
    },
    {
      "cell_type": "code",
      "source": [
        "df.columns = [\"ID number\", \"Random value\", \"Choice\"]\n",
        "print(df.head())\n"
      ],
      "metadata": {
        "colab": {
          "base_uri": "https://localhost:8080/"
        },
        "id": "r8uoYQjeLOra",
        "outputId": "ac4ea03b-3f29-4e8d-d057-90f475ba0489"
      },
      "execution_count": 4,
      "outputs": [
        {
          "output_type": "stream",
          "name": "stdout",
          "text": [
            "   ID number  Random value Choice\n",
            "0          1            10      A\n",
            "1          2            20      B\n",
            "2          3            30      C\n",
            "3          4            40      D\n",
            "4          5            50      E\n"
          ]
        }
      ]
    },
    {
      "cell_type": "code",
      "source": [
        "import pandas as pd\n",
        "\n",
        "# Optional: display settings\n",
        "pd.set_option('display.max_rows', None)\n",
        "\n",
        "# Creating the DataFrame\n",
        "student_data = pd.DataFrame({\n",
        "    'school_code': ['s001', 's002', 's003', 's001', 's002', 's004'],\n",
        "    'class': ['V', 'V', 'VI', 'VI', 'V', 'VI'],\n",
        "    'name': ['Alberto Franco', 'Gino Mcneill', 'Ryan Parkes',\n",
        "             'Eesha Hinton', 'Gino Mcneill', 'David Parkes'],\n",
        "    'date_Of_Birth': ['15/05/2002', '17/05/2002', '16/02/1999',\n",
        "                      '25/09/1998', '11/05/2002', '15/09/1997'],\n",
        "    'age': [12, 12, 13, 13, 14, 12],\n",
        "    'height': [173, 192, 186, 167, 151, 159],\n",
        "    'weight': [35, 32, 33, 30, 31, 32],\n",
        "    'address': ['street1', 'street2', 'street3', 'street1', 'street2', 'street4']\n",
        "}, index=['S1', 'S2', 'S3', 'S4', 'S5', 'S6'])\n",
        "\n",
        "print(\"Original DataFrame:\")\n",
        "print(student_data)\n",
        "\n",
        "# Grouping the data\n",
        "print(\"\\nSplit the said data on school_code, class wise:\")\n",
        "result = student_data.groupby(['school_code', 'class'])\n",
        "\n",
        "# Display each group\n",
        "for name, group in result:\n",
        "    print(\"\\nGroup:\", name)\n",
        "    print(group)\n"
      ],
      "metadata": {
        "colab": {
          "base_uri": "https://localhost:8080/"
        },
        "id": "PL4-0ZejSVsw",
        "outputId": "cd94649b-ca58-450a-d406-cbd547c94e65"
      },
      "execution_count": 15,
      "outputs": [
        {
          "output_type": "stream",
          "name": "stdout",
          "text": [
            "Original DataFrame:\n",
            "   school_code class            name date_Of_Birth  age  height  weight  \\\n",
            "S1        s001     V  Alberto Franco    15/05/2002   12     173      35   \n",
            "S2        s002     V    Gino Mcneill    17/05/2002   12     192      32   \n",
            "S3        s003    VI     Ryan Parkes    16/02/1999   13     186      33   \n",
            "S4        s001    VI    Eesha Hinton    25/09/1998   13     167      30   \n",
            "S5        s002     V    Gino Mcneill    11/05/2002   14     151      31   \n",
            "S6        s004    VI    David Parkes    15/09/1997   12     159      32   \n",
            "\n",
            "    address  \n",
            "S1  street1  \n",
            "S2  street2  \n",
            "S3  street3  \n",
            "S4  street1  \n",
            "S5  street2  \n",
            "S6  street4  \n",
            "\n",
            "Split the said data on school_code, class wise:\n",
            "\n",
            "Group: ('s001', 'V')\n",
            "   school_code class            name date_Of_Birth  age  height  weight  \\\n",
            "S1        s001     V  Alberto Franco    15/05/2002   12     173      35   \n",
            "\n",
            "    address  \n",
            "S1  street1  \n",
            "\n",
            "Group: ('s001', 'VI')\n",
            "   school_code class          name date_Of_Birth  age  height  weight  address\n",
            "S4        s001    VI  Eesha Hinton    25/09/1998   13     167      30  street1\n",
            "\n",
            "Group: ('s002', 'V')\n",
            "   school_code class          name date_Of_Birth  age  height  weight  address\n",
            "S2        s002     V  Gino Mcneill    17/05/2002   12     192      32  street2\n",
            "S5        s002     V  Gino Mcneill    11/05/2002   14     151      31  street2\n",
            "\n",
            "Group: ('s003', 'VI')\n",
            "   school_code class         name date_Of_Birth  age  height  weight  address\n",
            "S3        s003    VI  Ryan Parkes    16/02/1999   13     186      33  street3\n",
            "\n",
            "Group: ('s004', 'VI')\n",
            "   school_code class          name date_Of_Birth  age  height  weight  address\n",
            "S6        s004    VI  David Parkes    15/09/1997   12     159      32  street4\n"
          ]
        }
      ]
    },
    {
      "cell_type": "code",
      "source": [
        "import pandas as pd\n",
        "import matplotlib.pyplot as plt\n",
        "\n",
        "# Step 6: Read CSV file\n",
        "df = pd.read_csv(\"data.csv\")\n",
        "print(\"Step 6: First 5 rows of the dataset:\")\n",
        "print(df.head())\n",
        "\n",
        "# Step 7: Basic statistical description\n",
        "print(\"\\nStep 7: Descriptive statistics:\")\n",
        "print(df.describe())\n",
        "\n",
        "# Step 8: Check and replace null values with mean\n",
        "print(\"\\nStep 8: Null values before filling:\")\n",
        "print(df.isnull().sum())\n",
        "\n",
        "df.fillna(df.mean(numeric_only=True), inplace=True)\n",
        "\n",
        "print(\"\\nNull values after filling with mean:\")\n",
        "print(df.isnull().sum())\n",
        "\n",
        "# Step 9: Aggregate min, max, count, mean\n",
        "print(\"\\nStep 9: Aggregation (min, max, count, mean) for 'Calories' and 'Pulse':\")\n",
        "print(df[[\"Calories\", \"Pulse\"]].agg([\"min\", \"max\", \"count\", \"mean\"]))\n",
        "\n",
        "# Step 10: Filter Calories between 500 and 1000\n",
        "print(\"\\nStep 10: Rows with Calories between 500 and 1000:\")\n",
        "filtered_500_1000 = df[(df[\"Calories\"] >= 500) & (df[\"Calories\"] <= 1000)]\n",
        "print(filtered_500_1000)\n",
        "\n",
        "# Step 11: Filter Calories > 500 and Pulse < 100\n",
        "print(\"\\nStep 11: Rows with Calories > 500 and Pulse < 100:\")\n",
        "filtered_cond = df[(df[\"Calories\"] > 500) & (df[\"Pulse\"] < 100)]\n",
        "print(filtered_cond)\n",
        "\n",
        "# Step 12: Create df_modified without 'Maxpulse'\n",
        "df_modified = df.drop(columns=[\"Maxpulse\"])\n",
        "print(\"\\nStep 12: df_modified (without 'Maxpulse'):\")\n",
        "print(df_modified.head())\n",
        "\n",
        "# Step 13: Delete 'Maxpulse' from main df\n",
        "df.drop(columns=[\"Maxpulse\"], inplace=True)\n",
        "print(\"\\nStep 13: Remaining columns in df:\")\n",
        "print(df.columns)\n",
        "\n",
        "# Step 14: Convert 'Calories' to int\n",
        "df[\"Calories\"] = df[\"Calories\"].astype(int)\n",
        "print(\"\\nStep 14: Data types after converting 'Calories' to int:\")\n",
        "print(df.dtypes)\n",
        "\n",
        "# Step 15: Scatter plot (Duration vs Calories)\n",
        "print(\"\\nStep 15: Scatter Plot — Duration vs Calories\")\n",
        "plt.scatter(df[\"Duration\"], df[\"Calories\"], color='blue')\n",
        "plt.title(\"Duration vs Calories\")\n",
        "plt.xlabel(\"Duration\")\n",
        "plt.ylabel(\"Calories\")\n",
        "plt.grid(True)\n",
        "plt.show()\n"
      ],
      "metadata": {
        "colab": {
          "base_uri": "https://localhost:8080/",
          "height": 1000
        },
        "id": "9hvp4OMPMdyS",
        "outputId": "f14ff838-e82e-4574-abf8-1692d4c93080"
      },
      "execution_count": 13,
      "outputs": [
        {
          "output_type": "stream",
          "name": "stdout",
          "text": [
            "Step 6: First 5 rows of the dataset:\n",
            "   Duration  Pulse  Maxpulse  Calories\n",
            "0        60    110       130     409.1\n",
            "1        60    117       145     479.0\n",
            "2        60    103       135     340.0\n",
            "3        45    109       175     282.4\n",
            "4        45    117       148     406.0\n",
            "\n",
            "Step 7: Descriptive statistics:\n",
            "         Duration       Pulse    Maxpulse     Calories\n",
            "count  169.000000  169.000000  169.000000   164.000000\n",
            "mean    63.846154  107.461538  134.047337   375.790244\n",
            "std     42.299949   14.510259   16.450434   266.379919\n",
            "min     15.000000   80.000000  100.000000    50.300000\n",
            "25%     45.000000  100.000000  124.000000   250.925000\n",
            "50%     60.000000  105.000000  131.000000   318.600000\n",
            "75%     60.000000  111.000000  141.000000   387.600000\n",
            "max    300.000000  159.000000  184.000000  1860.400000\n",
            "\n",
            "Step 8: Null values before filling:\n",
            "Duration    0\n",
            "Pulse       0\n",
            "Maxpulse    0\n",
            "Calories    5\n",
            "dtype: int64\n",
            "\n",
            "Null values after filling with mean:\n",
            "Duration    0\n",
            "Pulse       0\n",
            "Maxpulse    0\n",
            "Calories    0\n",
            "dtype: int64\n",
            "\n",
            "Step 9: Aggregation (min, max, count, mean) for 'Calories' and 'Pulse':\n",
            "          Calories       Pulse\n",
            "min      50.300000   80.000000\n",
            "max    1860.400000  159.000000\n",
            "count   169.000000  169.000000\n",
            "mean    375.790244  107.461538\n",
            "\n",
            "Step 10: Rows with Calories between 500 and 1000:\n",
            "     Duration  Pulse  Maxpulse  Calories\n",
            "51         80    123       146     643.1\n",
            "62        160    109       135     853.0\n",
            "65        180     90       130     800.4\n",
            "66        150    105       135     873.4\n",
            "67        150    107       130     816.0\n",
            "72         90    100       127     700.0\n",
            "73        150     97       127     953.2\n",
            "75         90     98       125     563.2\n",
            "78        120    100       130     500.4\n",
            "83        120    100       130     500.0\n",
            "90        180    101       127     600.1\n",
            "99         90     93       124     604.1\n",
            "101        90     90       110     500.0\n",
            "102        90     90       100     500.0\n",
            "103        90     90       100     500.4\n",
            "106       180     90       120     800.3\n",
            "108        90     90       120     500.3\n",
            "\n",
            "Step 11: Rows with Calories > 500 and Pulse < 100:\n",
            "     Duration  Pulse  Maxpulse  Calories\n",
            "65        180     90       130     800.4\n",
            "70        150     97       129    1115.0\n",
            "73        150     97       127     953.2\n",
            "75         90     98       125     563.2\n",
            "99         90     93       124     604.1\n",
            "103        90     90       100     500.4\n",
            "106       180     90       120     800.3\n",
            "108        90     90       120     500.3\n",
            "\n",
            "Step 12: df_modified (without 'Maxpulse'):\n",
            "   Duration  Pulse  Calories\n",
            "0        60    110     409.1\n",
            "1        60    117     479.0\n",
            "2        60    103     340.0\n",
            "3        45    109     282.4\n",
            "4        45    117     406.0\n",
            "\n",
            "Step 13: Remaining columns in df:\n",
            "Index(['Duration', 'Pulse', 'Calories'], dtype='object')\n",
            "\n",
            "Step 14: Data types after converting 'Calories' to int:\n",
            "Duration    int64\n",
            "Pulse       int64\n",
            "Calories    int64\n",
            "dtype: object\n",
            "\n",
            "Step 15: Scatter Plot — Duration vs Calories\n"
          ]
        },
        {
          "output_type": "display_data",
          "data": {
            "text/plain": [
              "<Figure size 640x480 with 1 Axes>"
            ],
            "image/png": "[encoded data removed]"
          },
          "metadata": {}
        }
      ]
    }
  ]
}